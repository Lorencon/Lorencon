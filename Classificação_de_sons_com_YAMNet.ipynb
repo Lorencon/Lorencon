{
  "cells": [
    {
      "cell_type": "markdown",
      "metadata": {
        "id": "view-in-github",
        "colab_type": "text"
      },
      "source": [
        "<a href=\"https://colab.research.google.com/github/Lorencon/Lorencon/blob/main/Classifica%C3%A7%C3%A3o_de_sons_com_YAMNet.ipynb\" target=\"_parent\"><img src=\"https://colab.research.google.com/assets/colab-badge.svg\" alt=\"Open In Colab\"/></a>"
      ]
    },
    {
      "cell_type": "markdown",
      "source": [
        "# YAMNet (Yet Another Mobile Network) \n",
        "YAMNet é um modelo de detecção acústica pré-treinado por Dan Ellis no conjunto de dados AudioSet que contém dados rotulados de mais de 2 milhões de vídeos do Youtube. \n",
        " * Este modelo consegue prever **521 eventos de áudio**. \n",
        "  * Recebe a forma de onda de áudio como entrada e faz previsões independentes para cada um dos 521 eventos de áudio.\n",
        " * Usa a arquitetura de convolução *MobileNet_v1*. Mais detalhes sobre toda a estrutura podem ser vistos neste artigo:\n",
        "  * [Review: MobileNetV1 — Depthwise Separable Convolution (Light Weight Model)](https://towardsdatascience.com/review-mobilenetv1-depthwise-separable-convolution-light-weight-model-a382df364b69) \n",
        " * Esse modelo pré-treinado está disponível no Tensorflow Hub, que inclui as versões TFLite (modelo lite para dispositivos móveis) e TF.js (executando na Web)."
      ],
      "metadata": {
        "id": "CozU1TDUw-j4"
      }
    },
    {
      "cell_type": "markdown",
      "source": [
        "# Importando as bibliotecas"
      ],
      "metadata": {
        "id": "IoTH5xls1VCu"
      }
    },
    {
      "cell_type": "code",
      "source": [
        "import csv\n",
        "import warnings\n",
        "warnings.filterwarnings('ignore')\n",
        "import librosa\n",
        "import matplotlib.pyplot as plt\n",
        "import numpy as np\n",
        "import tensorflow as tf\n",
        "import tensorflow_hub as hub\n",
        "from IPython.display import Audio\n",
        "import seaborn as sns\n",
        "sns.set()\n",
        "tf.__version__"
      ],
      "metadata": {
        "colab": {
          "base_uri": "https://localhost:8080/",
          "height": 57
        },
        "id": "U8BzLdmmZ6ty",
        "outputId": "9054cfba-a848-4597-c88b-dad6d495ae4d"
      },
      "execution_count": null,
      "outputs": [
        {
          "output_type": "execute_result",
          "data": {
            "text/plain": [
              "'2.8.2'"
            ],
            "application/vnd.google.colaboratory.intrinsic+json": {
              "type": "string"
            }
          },
          "metadata": {},
          "execution_count": 1
        }
      ]
    },
    {
      "cell_type": "markdown",
      "source": [
        "# Carregando o modelo que prevê 521 eventos de áudio"
      ],
      "metadata": {
        "id": "-ZvTIwk316KX"
      }
    },
    {
      "cell_type": "code",
      "source": [
        "yamnet_model = hub.load('https://tfhub.dev/google/yamnet/1')"
      ],
      "metadata": {
        "id": "PO8YEqC6bz1G"
      },
      "execution_count": null,
      "outputs": []
    },
    {
      "cell_type": "markdown",
      "source": [
        "## Visualizando o arquivo .csv com o mapeamento das classes do modelo"
      ],
      "metadata": {
        "id": "Gw_1WYOg7BMX"
      }
    },
    {
      "cell_type": "code",
      "source": [
        "class_map_path = yamnet_model.class_map_path().numpy()\n",
        "class_map_path"
      ],
      "metadata": {
        "colab": {
          "base_uri": "https://localhost:8080/"
        },
        "id": "QoeKvAJ3c9GF",
        "outputId": "b8808821-0215-499f-828d-f1667212aa9b"
      },
      "execution_count": null,
      "outputs": [
        {
          "output_type": "execute_result",
          "data": {
            "text/plain": [
              "b'/tmp/tfhub_modules/9616fd04ec2360621642ef9455b84f4b668e219e/assets/yamnet_class_map.csv'"
            ]
          },
          "metadata": {},
          "execution_count": 3
        }
      ]
    },
    {
      "cell_type": "code",
      "source": [
        "with tf.io.gfile.GFile(class_map_path) as csvfile:\n",
        "  reader = csv.DictReader(csvfile)\n",
        "  for row in reader:\n",
        "    #print(row)\n",
        "    print(row['display_name'])"
      ],
      "metadata": {
        "colab": {
          "base_uri": "https://localhost:8080/"
        },
        "id": "5wUUGXKudOwC",
        "outputId": "b874412f-c0a7-41b2-90f4-4a5e32b37f60"
      },
      "execution_count": null,
      "outputs": [
        {
          "output_type": "stream",
          "name": "stdout",
          "text": [
            "Speech\n",
            "Child speech, kid speaking\n",
            "Conversation\n",
            "Narration, monologue\n",
            "Babbling\n",
            "Speech synthesizer\n",
            "Shout\n",
            "Bellow\n",
            "Whoop\n",
            "Yell\n",
            "Children shouting\n",
            "Screaming\n",
            "Whispering\n",
            "Laughter\n",
            "Baby laughter\n",
            "Giggle\n",
            "Snicker\n",
            "Belly laugh\n",
            "Chuckle, chortle\n",
            "Crying, sobbing\n",
            "Baby cry, infant cry\n",
            "Whimper\n",
            "Wail, moan\n",
            "Sigh\n",
            "Singing\n",
            "Choir\n",
            "Yodeling\n",
            "Chant\n",
            "Mantra\n",
            "Child singing\n",
            "Synthetic singing\n",
            "Rapping\n",
            "Humming\n",
            "Groan\n",
            "Grunt\n",
            "Whistling\n",
            "Breathing\n",
            "Wheeze\n",
            "Snoring\n",
            "Gasp\n",
            "Pant\n",
            "Snort\n",
            "Cough\n",
            "Throat clearing\n",
            "Sneeze\n",
            "Sniff\n",
            "Run\n",
            "Shuffle\n",
            "Walk, footsteps\n",
            "Chewing, mastication\n",
            "Biting\n",
            "Gargling\n",
            "Stomach rumble\n",
            "Burping, eructation\n",
            "Hiccup\n",
            "Fart\n",
            "Hands\n",
            "Finger snapping\n",
            "Clapping\n",
            "Heart sounds, heartbeat\n",
            "Heart murmur\n",
            "Cheering\n",
            "Applause\n",
            "Chatter\n",
            "Crowd\n",
            "Hubbub, speech noise, speech babble\n",
            "Children playing\n",
            "Animal\n",
            "Domestic animals, pets\n",
            "Dog\n",
            "Bark\n",
            "Yip\n",
            "Howl\n",
            "Bow-wow\n",
            "Growling\n",
            "Whimper (dog)\n",
            "Cat\n",
            "Purr\n",
            "Meow\n",
            "Hiss\n",
            "Caterwaul\n",
            "Livestock, farm animals, working animals\n",
            "Horse\n",
            "Clip-clop\n",
            "Neigh, whinny\n",
            "Cattle, bovinae\n",
            "Moo\n",
            "Cowbell\n",
            "Pig\n",
            "Oink\n",
            "Goat\n",
            "Bleat\n",
            "Sheep\n",
            "Fowl\n",
            "Chicken, rooster\n",
            "Cluck\n",
            "Crowing, cock-a-doodle-doo\n",
            "Turkey\n",
            "Gobble\n",
            "Duck\n",
            "Quack\n",
            "Goose\n",
            "Honk\n",
            "Wild animals\n",
            "Roaring cats (lions, tigers)\n",
            "Roar\n",
            "Bird\n",
            "Bird vocalization, bird call, bird song\n",
            "Chirp, tweet\n",
            "Squawk\n",
            "Pigeon, dove\n",
            "Coo\n",
            "Crow\n",
            "Caw\n",
            "Owl\n",
            "Hoot\n",
            "Bird flight, flapping wings\n",
            "Canidae, dogs, wolves\n",
            "Rodents, rats, mice\n",
            "Mouse\n",
            "Patter\n",
            "Insect\n",
            "Cricket\n",
            "Mosquito\n",
            "Fly, housefly\n",
            "Buzz\n",
            "Bee, wasp, etc.\n",
            "Frog\n",
            "Croak\n",
            "Snake\n",
            "Rattle\n",
            "Whale vocalization\n",
            "Music\n",
            "Musical instrument\n",
            "Plucked string instrument\n",
            "Guitar\n",
            "Electric guitar\n",
            "Bass guitar\n",
            "Acoustic guitar\n",
            "Steel guitar, slide guitar\n",
            "Tapping (guitar technique)\n",
            "Strum\n",
            "Banjo\n",
            "Sitar\n",
            "Mandolin\n",
            "Zither\n",
            "Ukulele\n",
            "Keyboard (musical)\n",
            "Piano\n",
            "Electric piano\n",
            "Organ\n",
            "Electronic organ\n",
            "Hammond organ\n",
            "Synthesizer\n",
            "Sampler\n",
            "Harpsichord\n",
            "Percussion\n",
            "Drum kit\n",
            "Drum machine\n",
            "Drum\n",
            "Snare drum\n",
            "Rimshot\n",
            "Drum roll\n",
            "Bass drum\n",
            "Timpani\n",
            "Tabla\n",
            "Cymbal\n",
            "Hi-hat\n",
            "Wood block\n",
            "Tambourine\n",
            "Rattle (instrument)\n",
            "Maraca\n",
            "Gong\n",
            "Tubular bells\n",
            "Mallet percussion\n",
            "Marimba, xylophone\n",
            "Glockenspiel\n",
            "Vibraphone\n",
            "Steelpan\n",
            "Orchestra\n",
            "Brass instrument\n",
            "French horn\n",
            "Trumpet\n",
            "Trombone\n",
            "Bowed string instrument\n",
            "String section\n",
            "Violin, fiddle\n",
            "Pizzicato\n",
            "Cello\n",
            "Double bass\n",
            "Wind instrument, woodwind instrument\n",
            "Flute\n",
            "Saxophone\n",
            "Clarinet\n",
            "Harp\n",
            "Bell\n",
            "Church bell\n",
            "Jingle bell\n",
            "Bicycle bell\n",
            "Tuning fork\n",
            "Chime\n",
            "Wind chime\n",
            "Change ringing (campanology)\n",
            "Harmonica\n",
            "Accordion\n",
            "Bagpipes\n",
            "Didgeridoo\n",
            "Shofar\n",
            "Theremin\n",
            "Singing bowl\n",
            "Scratching (performance technique)\n",
            "Pop music\n",
            "Hip hop music\n",
            "Beatboxing\n",
            "Rock music\n",
            "Heavy metal\n",
            "Punk rock\n",
            "Grunge\n",
            "Progressive rock\n",
            "Rock and roll\n",
            "Psychedelic rock\n",
            "Rhythm and blues\n",
            "Soul music\n",
            "Reggae\n",
            "Country\n",
            "Swing music\n",
            "Bluegrass\n",
            "Funk\n",
            "Folk music\n",
            "Middle Eastern music\n",
            "Jazz\n",
            "Disco\n",
            "Classical music\n",
            "Opera\n",
            "Electronic music\n",
            "House music\n",
            "Techno\n",
            "Dubstep\n",
            "Drum and bass\n",
            "Electronica\n",
            "Electronic dance music\n",
            "Ambient music\n",
            "Trance music\n",
            "Music of Latin America\n",
            "Salsa music\n",
            "Flamenco\n",
            "Blues\n",
            "Music for children\n",
            "New-age music\n",
            "Vocal music\n",
            "A capella\n",
            "Music of Africa\n",
            "Afrobeat\n",
            "Christian music\n",
            "Gospel music\n",
            "Music of Asia\n",
            "Carnatic music\n",
            "Music of Bollywood\n",
            "Ska\n",
            "Traditional music\n",
            "Independent music\n",
            "Song\n",
            "Background music\n",
            "Theme music\n",
            "Jingle (music)\n",
            "Soundtrack music\n",
            "Lullaby\n",
            "Video game music\n",
            "Christmas music\n",
            "Dance music\n",
            "Wedding music\n",
            "Happy music\n",
            "Sad music\n",
            "Tender music\n",
            "Exciting music\n",
            "Angry music\n",
            "Scary music\n",
            "Wind\n",
            "Rustling leaves\n",
            "Wind noise (microphone)\n",
            "Thunderstorm\n",
            "Thunder\n",
            "Water\n",
            "Rain\n",
            "Raindrop\n",
            "Rain on surface\n",
            "Stream\n",
            "Waterfall\n",
            "Ocean\n",
            "Waves, surf\n",
            "Steam\n",
            "Gurgling\n",
            "Fire\n",
            "Crackle\n",
            "Vehicle\n",
            "Boat, Water vehicle\n",
            "Sailboat, sailing ship\n",
            "Rowboat, canoe, kayak\n",
            "Motorboat, speedboat\n",
            "Ship\n",
            "Motor vehicle (road)\n",
            "Car\n",
            "Vehicle horn, car horn, honking\n",
            "Toot\n",
            "Car alarm\n",
            "Power windows, electric windows\n",
            "Skidding\n",
            "Tire squeal\n",
            "Car passing by\n",
            "Race car, auto racing\n",
            "Truck\n",
            "Air brake\n",
            "Air horn, truck horn\n",
            "Reversing beeps\n",
            "Ice cream truck, ice cream van\n",
            "Bus\n",
            "Emergency vehicle\n",
            "Police car (siren)\n",
            "Ambulance (siren)\n",
            "Fire engine, fire truck (siren)\n",
            "Motorcycle\n",
            "Traffic noise, roadway noise\n",
            "Rail transport\n",
            "Train\n",
            "Train whistle\n",
            "Train horn\n",
            "Railroad car, train wagon\n",
            "Train wheels squealing\n",
            "Subway, metro, underground\n",
            "Aircraft\n",
            "Aircraft engine\n",
            "Jet engine\n",
            "Propeller, airscrew\n",
            "Helicopter\n",
            "Fixed-wing aircraft, airplane\n",
            "Bicycle\n",
            "Skateboard\n",
            "Engine\n",
            "Light engine (high frequency)\n",
            "Dental drill, dentist's drill\n",
            "Lawn mower\n",
            "Chainsaw\n",
            "Medium engine (mid frequency)\n",
            "Heavy engine (low frequency)\n",
            "Engine knocking\n",
            "Engine starting\n",
            "Idling\n",
            "Accelerating, revving, vroom\n",
            "Door\n",
            "Doorbell\n",
            "Ding-dong\n",
            "Sliding door\n",
            "Slam\n",
            "Knock\n",
            "Tap\n",
            "Squeak\n",
            "Cupboard open or close\n",
            "Drawer open or close\n",
            "Dishes, pots, and pans\n",
            "Cutlery, silverware\n",
            "Chopping (food)\n",
            "Frying (food)\n",
            "Microwave oven\n",
            "Blender\n",
            "Water tap, faucet\n",
            "Sink (filling or washing)\n",
            "Bathtub (filling or washing)\n",
            "Hair dryer\n",
            "Toilet flush\n",
            "Toothbrush\n",
            "Electric toothbrush\n",
            "Vacuum cleaner\n",
            "Zipper (clothing)\n",
            "Keys jangling\n",
            "Coin (dropping)\n",
            "Scissors\n",
            "Electric shaver, electric razor\n",
            "Shuffling cards\n",
            "Typing\n",
            "Typewriter\n",
            "Computer keyboard\n",
            "Writing\n",
            "Alarm\n",
            "Telephone\n",
            "Telephone bell ringing\n",
            "Ringtone\n",
            "Telephone dialing, DTMF\n",
            "Dial tone\n",
            "Busy signal\n",
            "Alarm clock\n",
            "Siren\n",
            "Civil defense siren\n",
            "Buzzer\n",
            "Smoke detector, smoke alarm\n",
            "Fire alarm\n",
            "Foghorn\n",
            "Whistle\n",
            "Steam whistle\n",
            "Mechanisms\n",
            "Ratchet, pawl\n",
            "Clock\n",
            "Tick\n",
            "Tick-tock\n",
            "Gears\n",
            "Pulleys\n",
            "Sewing machine\n",
            "Mechanical fan\n",
            "Air conditioning\n",
            "Cash register\n",
            "Printer\n",
            "Camera\n",
            "Single-lens reflex camera\n",
            "Tools\n",
            "Hammer\n",
            "Jackhammer\n",
            "Sawing\n",
            "Filing (rasp)\n",
            "Sanding\n",
            "Power tool\n",
            "Drill\n",
            "Explosion\n",
            "Gunshot, gunfire\n",
            "Machine gun\n",
            "Fusillade\n",
            "Artillery fire\n",
            "Cap gun\n",
            "Fireworks\n",
            "Firecracker\n",
            "Burst, pop\n",
            "Eruption\n",
            "Boom\n",
            "Wood\n",
            "Chop\n",
            "Splinter\n",
            "Crack\n",
            "Glass\n",
            "Chink, clink\n",
            "Shatter\n",
            "Liquid\n",
            "Splash, splatter\n",
            "Slosh\n",
            "Squish\n",
            "Drip\n",
            "Pour\n",
            "Trickle, dribble\n",
            "Gush\n",
            "Fill (with liquid)\n",
            "Spray\n",
            "Pump (liquid)\n",
            "Stir\n",
            "Boiling\n",
            "Sonar\n",
            "Arrow\n",
            "Whoosh, swoosh, swish\n",
            "Thump, thud\n",
            "Thunk\n",
            "Electronic tuner\n",
            "Effects unit\n",
            "Chorus effect\n",
            "Basketball bounce\n",
            "Bang\n",
            "Slap, smack\n",
            "Whack, thwack\n",
            "Smash, crash\n",
            "Breaking\n",
            "Bouncing\n",
            "Whip\n",
            "Flap\n",
            "Scratch\n",
            "Scrape\n",
            "Rub\n",
            "Roll\n",
            "Crushing\n",
            "Crumpling, crinkling\n",
            "Tearing\n",
            "Beep, bleep\n",
            "Ping\n",
            "Ding\n",
            "Clang\n",
            "Squeal\n",
            "Creak\n",
            "Rustle\n",
            "Whir\n",
            "Clatter\n",
            "Sizzle\n",
            "Clicking\n",
            "Clickety-clack\n",
            "Rumble\n",
            "Plop\n",
            "Jingle, tinkle\n",
            "Hum\n",
            "Zing\n",
            "Boing\n",
            "Crunch\n",
            "Silence\n",
            "Sine wave\n",
            "Harmonic\n",
            "Chirp tone\n",
            "Sound effect\n",
            "Pulse\n",
            "Inside, small room\n",
            "Inside, large room or hall\n",
            "Inside, public space\n",
            "Outside, urban or manmade\n",
            "Outside, rural or natural\n",
            "Reverberation\n",
            "Echo\n",
            "Noise\n",
            "Environmental noise\n",
            "Static\n",
            "Mains hum\n",
            "Distortion\n",
            "Sidetone\n",
            "Cacophony\n",
            "White noise\n",
            "Pink noise\n",
            "Throbbing\n",
            "Vibration\n",
            "Television\n",
            "Radio\n",
            "Field recording\n"
          ]
        }
      ]
    },
    {
      "cell_type": "code",
      "source": [
        "def class_names_from_csv(class_map_csv_text):\n",
        "  class_names = []\n",
        "  with tf.io.gfile.GFile(class_map_csv_text) as csvfile:\n",
        "    reader = csv.DictReader(csvfile)\n",
        "    for row in reader:\n",
        "      class_names.append(row['display_name'])\n",
        "  return class_names"
      ],
      "metadata": {
        "id": "Lc1iHyIPeNwW"
      },
      "execution_count": null,
      "outputs": []
    },
    {
      "cell_type": "code",
      "source": [
        "class_map_path = yamnet_model.class_map_path().numpy()\n",
        "class_names = class_names_from_csv(class_map_path)"
      ],
      "metadata": {
        "id": "zKvhssKqeqcQ"
      },
      "execution_count": null,
      "outputs": []
    },
    {
      "cell_type": "code",
      "source": [
        "print(class_names)"
      ],
      "metadata": {
        "colab": {
          "base_uri": "https://localhost:8080/"
        },
        "id": "bEZ2enSme3G_",
        "outputId": "8ef32b88-a950-4ce3-f2c9-d810c24166de"
      },
      "execution_count": null,
      "outputs": [
        {
          "output_type": "stream",
          "name": "stdout",
          "text": [
            "['Speech', 'Child speech, kid speaking', 'Conversation', 'Narration, monologue', 'Babbling', 'Speech synthesizer', 'Shout', 'Bellow', 'Whoop', 'Yell', 'Children shouting', 'Screaming', 'Whispering', 'Laughter', 'Baby laughter', 'Giggle', 'Snicker', 'Belly laugh', 'Chuckle, chortle', 'Crying, sobbing', 'Baby cry, infant cry', 'Whimper', 'Wail, moan', 'Sigh', 'Singing', 'Choir', 'Yodeling', 'Chant', 'Mantra', 'Child singing', 'Synthetic singing', 'Rapping', 'Humming', 'Groan', 'Grunt', 'Whistling', 'Breathing', 'Wheeze', 'Snoring', 'Gasp', 'Pant', 'Snort', 'Cough', 'Throat clearing', 'Sneeze', 'Sniff', 'Run', 'Shuffle', 'Walk, footsteps', 'Chewing, mastication', 'Biting', 'Gargling', 'Stomach rumble', 'Burping, eructation', 'Hiccup', 'Fart', 'Hands', 'Finger snapping', 'Clapping', 'Heart sounds, heartbeat', 'Heart murmur', 'Cheering', 'Applause', 'Chatter', 'Crowd', 'Hubbub, speech noise, speech babble', 'Children playing', 'Animal', 'Domestic animals, pets', 'Dog', 'Bark', 'Yip', 'Howl', 'Bow-wow', 'Growling', 'Whimper (dog)', 'Cat', 'Purr', 'Meow', 'Hiss', 'Caterwaul', 'Livestock, farm animals, working animals', 'Horse', 'Clip-clop', 'Neigh, whinny', 'Cattle, bovinae', 'Moo', 'Cowbell', 'Pig', 'Oink', 'Goat', 'Bleat', 'Sheep', 'Fowl', 'Chicken, rooster', 'Cluck', 'Crowing, cock-a-doodle-doo', 'Turkey', 'Gobble', 'Duck', 'Quack', 'Goose', 'Honk', 'Wild animals', 'Roaring cats (lions, tigers)', 'Roar', 'Bird', 'Bird vocalization, bird call, bird song', 'Chirp, tweet', 'Squawk', 'Pigeon, dove', 'Coo', 'Crow', 'Caw', 'Owl', 'Hoot', 'Bird flight, flapping wings', 'Canidae, dogs, wolves', 'Rodents, rats, mice', 'Mouse', 'Patter', 'Insect', 'Cricket', 'Mosquito', 'Fly, housefly', 'Buzz', 'Bee, wasp, etc.', 'Frog', 'Croak', 'Snake', 'Rattle', 'Whale vocalization', 'Music', 'Musical instrument', 'Plucked string instrument', 'Guitar', 'Electric guitar', 'Bass guitar', 'Acoustic guitar', 'Steel guitar, slide guitar', 'Tapping (guitar technique)', 'Strum', 'Banjo', 'Sitar', 'Mandolin', 'Zither', 'Ukulele', 'Keyboard (musical)', 'Piano', 'Electric piano', 'Organ', 'Electronic organ', 'Hammond organ', 'Synthesizer', 'Sampler', 'Harpsichord', 'Percussion', 'Drum kit', 'Drum machine', 'Drum', 'Snare drum', 'Rimshot', 'Drum roll', 'Bass drum', 'Timpani', 'Tabla', 'Cymbal', 'Hi-hat', 'Wood block', 'Tambourine', 'Rattle (instrument)', 'Maraca', 'Gong', 'Tubular bells', 'Mallet percussion', 'Marimba, xylophone', 'Glockenspiel', 'Vibraphone', 'Steelpan', 'Orchestra', 'Brass instrument', 'French horn', 'Trumpet', 'Trombone', 'Bowed string instrument', 'String section', 'Violin, fiddle', 'Pizzicato', 'Cello', 'Double bass', 'Wind instrument, woodwind instrument', 'Flute', 'Saxophone', 'Clarinet', 'Harp', 'Bell', 'Church bell', 'Jingle bell', 'Bicycle bell', 'Tuning fork', 'Chime', 'Wind chime', 'Change ringing (campanology)', 'Harmonica', 'Accordion', 'Bagpipes', 'Didgeridoo', 'Shofar', 'Theremin', 'Singing bowl', 'Scratching (performance technique)', 'Pop music', 'Hip hop music', 'Beatboxing', 'Rock music', 'Heavy metal', 'Punk rock', 'Grunge', 'Progressive rock', 'Rock and roll', 'Psychedelic rock', 'Rhythm and blues', 'Soul music', 'Reggae', 'Country', 'Swing music', 'Bluegrass', 'Funk', 'Folk music', 'Middle Eastern music', 'Jazz', 'Disco', 'Classical music', 'Opera', 'Electronic music', 'House music', 'Techno', 'Dubstep', 'Drum and bass', 'Electronica', 'Electronic dance music', 'Ambient music', 'Trance music', 'Music of Latin America', 'Salsa music', 'Flamenco', 'Blues', 'Music for children', 'New-age music', 'Vocal music', 'A capella', 'Music of Africa', 'Afrobeat', 'Christian music', 'Gospel music', 'Music of Asia', 'Carnatic music', 'Music of Bollywood', 'Ska', 'Traditional music', 'Independent music', 'Song', 'Background music', 'Theme music', 'Jingle (music)', 'Soundtrack music', 'Lullaby', 'Video game music', 'Christmas music', 'Dance music', 'Wedding music', 'Happy music', 'Sad music', 'Tender music', 'Exciting music', 'Angry music', 'Scary music', 'Wind', 'Rustling leaves', 'Wind noise (microphone)', 'Thunderstorm', 'Thunder', 'Water', 'Rain', 'Raindrop', 'Rain on surface', 'Stream', 'Waterfall', 'Ocean', 'Waves, surf', 'Steam', 'Gurgling', 'Fire', 'Crackle', 'Vehicle', 'Boat, Water vehicle', 'Sailboat, sailing ship', 'Rowboat, canoe, kayak', 'Motorboat, speedboat', 'Ship', 'Motor vehicle (road)', 'Car', 'Vehicle horn, car horn, honking', 'Toot', 'Car alarm', 'Power windows, electric windows', 'Skidding', 'Tire squeal', 'Car passing by', 'Race car, auto racing', 'Truck', 'Air brake', 'Air horn, truck horn', 'Reversing beeps', 'Ice cream truck, ice cream van', 'Bus', 'Emergency vehicle', 'Police car (siren)', 'Ambulance (siren)', 'Fire engine, fire truck (siren)', 'Motorcycle', 'Traffic noise, roadway noise', 'Rail transport', 'Train', 'Train whistle', 'Train horn', 'Railroad car, train wagon', 'Train wheels squealing', 'Subway, metro, underground', 'Aircraft', 'Aircraft engine', 'Jet engine', 'Propeller, airscrew', 'Helicopter', 'Fixed-wing aircraft, airplane', 'Bicycle', 'Skateboard', 'Engine', 'Light engine (high frequency)', \"Dental drill, dentist's drill\", 'Lawn mower', 'Chainsaw', 'Medium engine (mid frequency)', 'Heavy engine (low frequency)', 'Engine knocking', 'Engine starting', 'Idling', 'Accelerating, revving, vroom', 'Door', 'Doorbell', 'Ding-dong', 'Sliding door', 'Slam', 'Knock', 'Tap', 'Squeak', 'Cupboard open or close', 'Drawer open or close', 'Dishes, pots, and pans', 'Cutlery, silverware', 'Chopping (food)', 'Frying (food)', 'Microwave oven', 'Blender', 'Water tap, faucet', 'Sink (filling or washing)', 'Bathtub (filling or washing)', 'Hair dryer', 'Toilet flush', 'Toothbrush', 'Electric toothbrush', 'Vacuum cleaner', 'Zipper (clothing)', 'Keys jangling', 'Coin (dropping)', 'Scissors', 'Electric shaver, electric razor', 'Shuffling cards', 'Typing', 'Typewriter', 'Computer keyboard', 'Writing', 'Alarm', 'Telephone', 'Telephone bell ringing', 'Ringtone', 'Telephone dialing, DTMF', 'Dial tone', 'Busy signal', 'Alarm clock', 'Siren', 'Civil defense siren', 'Buzzer', 'Smoke detector, smoke alarm', 'Fire alarm', 'Foghorn', 'Whistle', 'Steam whistle', 'Mechanisms', 'Ratchet, pawl', 'Clock', 'Tick', 'Tick-tock', 'Gears', 'Pulleys', 'Sewing machine', 'Mechanical fan', 'Air conditioning', 'Cash register', 'Printer', 'Camera', 'Single-lens reflex camera', 'Tools', 'Hammer', 'Jackhammer', 'Sawing', 'Filing (rasp)', 'Sanding', 'Power tool', 'Drill', 'Explosion', 'Gunshot, gunfire', 'Machine gun', 'Fusillade', 'Artillery fire', 'Cap gun', 'Fireworks', 'Firecracker', 'Burst, pop', 'Eruption', 'Boom', 'Wood', 'Chop', 'Splinter', 'Crack', 'Glass', 'Chink, clink', 'Shatter', 'Liquid', 'Splash, splatter', 'Slosh', 'Squish', 'Drip', 'Pour', 'Trickle, dribble', 'Gush', 'Fill (with liquid)', 'Spray', 'Pump (liquid)', 'Stir', 'Boiling', 'Sonar', 'Arrow', 'Whoosh, swoosh, swish', 'Thump, thud', 'Thunk', 'Electronic tuner', 'Effects unit', 'Chorus effect', 'Basketball bounce', 'Bang', 'Slap, smack', 'Whack, thwack', 'Smash, crash', 'Breaking', 'Bouncing', 'Whip', 'Flap', 'Scratch', 'Scrape', 'Rub', 'Roll', 'Crushing', 'Crumpling, crinkling', 'Tearing', 'Beep, bleep', 'Ping', 'Ding', 'Clang', 'Squeal', 'Creak', 'Rustle', 'Whir', 'Clatter', 'Sizzle', 'Clicking', 'Clickety-clack', 'Rumble', 'Plop', 'Jingle, tinkle', 'Hum', 'Zing', 'Boing', 'Crunch', 'Silence', 'Sine wave', 'Harmonic', 'Chirp tone', 'Sound effect', 'Pulse', 'Inside, small room', 'Inside, large room or hall', 'Inside, public space', 'Outside, urban or manmade', 'Outside, rural or natural', 'Reverberation', 'Echo', 'Noise', 'Environmental noise', 'Static', 'Mains hum', 'Distortion', 'Sidetone', 'Cacophony', 'White noise', 'Pink noise', 'Throbbing', 'Vibration', 'Television', 'Radio', 'Field recording']\n"
          ]
        }
      ]
    },
    {
      "cell_type": "code",
      "source": [
        "len(class_names)"
      ],
      "metadata": {
        "colab": {
          "base_uri": "https://localhost:8080/"
        },
        "id": "I2zN32p5e8pi",
        "outputId": "9986de26-57c1-4481-cd73-4335cdcadf98"
      },
      "execution_count": null,
      "outputs": [
        {
          "output_type": "execute_result",
          "data": {
            "text/plain": [
              "521"
            ]
          },
          "metadata": {},
          "execution_count": 10
        }
      ]
    },
    {
      "cell_type": "code",
      "source": [
        "class_names[1]"
      ],
      "metadata": {
        "colab": {
          "base_uri": "https://localhost:8080/",
          "height": 57
        },
        "id": "AcXeDZpsfAFR",
        "outputId": "15564cae-f07a-4779-da39-b831bb643a64"
      },
      "execution_count": null,
      "outputs": [
        {
          "output_type": "execute_result",
          "data": {
            "text/plain": [
              "'Child speech, kid speaking'"
            ],
            "application/vnd.google.colaboratory.intrinsic+json": {
              "type": "string"
            }
          },
          "metadata": {},
          "execution_count": 12
        }
      ]
    },
    {
      "cell_type": "markdown",
      "source": [
        "# Pré-processamento do arquivo de áudio\n",
        "## Entradas\n",
        " * O modelo aceita um Tensor `float32` 1-D ou matriz NumPy contendo uma **forma de onda de comprimento fixo**, ou seja, devemos realizar uma normalização nas amostras de entrada, definindo o arquivo de audio como mono e com uma frequência de 16 kHz. \n",
        " * Para isso temos a função abaixo que faz o pré-processamento dos arquivos de áudio e também divide as formas de onda em janelas deslizantes de 0,96 segundos, saltando a cada 0,48 segundos e, em seguida, classificando cada uma destas janelas. \n",
        "[Ver o GIF](https://1.bp.blogspot.com/-CLyq7ilQIow/YDawZXp_NiI/AAAAAAAAEEg/vVa58jb24Fkw-LZPsezB_qMdnvndOYuzwCLcBGAsYHQ/s0/yamnet_animation%2B%25282%2529.gif)\n",
        "\n",
        "**Imagem**: [“MeowTalk” — How to train YAMNet audio classification model for mobile devices](https://medium.com/@danya.kosmin/meowtalk-how-to-train-yamnet-audio-classification-model-for-mobile-devices-4f228cf5650c)\n",
        "\n",
        "Caso queira dar uma olhada nestes hiperparâmetros do modelo para normalização de cada arquivo de audio de entrada, está disponível neste link:\n",
        " [research/audioset/yamnet/params.py](https://github.com/tensorflow/models/blob/master/research/audioset/yamnet/params.py)\n"
      ],
      "metadata": {
        "id": "ADZTZfeg9VUH"
      }
    },
    {
      "cell_type": "code",
      "source": [
        "def preprocess_audio(audio):\n",
        "  wav_file_name = audio\n",
        "\n",
        "  wav_data, sample_rate = librosa.load(wav_file_name, sr = 16000)\n",
        "  print('Taxa de amostragem: ', sample_rate)\n",
        "  print('Duração: ', len(wav_data) / sample_rate)\n",
        "  print('Número total de amostras: ', len(wav_data))\n",
        "\n",
        "  scores, embeddings, spectrogram = yamnet_model(wav_data) # (N, 521) (N, 1024)\n",
        "  #print(scores)\n",
        "  #print()\n",
        "  #print(embeddings)\n",
        "  #print()\n",
        "  #print(spectrogram)\n",
        "  scores_np = scores.numpy()\n",
        "  spectrogram_np = spectrogram.numpy()\n",
        "\n",
        "  #print(scores_np.mean(axis=0).argmax())\n",
        "  infered_class = class_names[scores_np.mean(axis=0).argmax()]\n",
        "  print('O som principal é: ', infered_class)\n",
        "\n",
        "  plt.figure(figsize=(10,6))\n",
        "  plt.subplot(2,1,1)\n",
        "  plt.plot(wav_data)\n",
        "  plt.xlim([0, len(wav_data)])\n",
        "  plt.subplot(2,1,2)\n",
        "  plt.imshow(spectrogram_np.T, aspect='auto', interpolation='nearest')\n",
        "\n",
        "  mean_scores = np.mean(scores, axis=0)\n",
        "  #print(mean_scores.shape)\n",
        "  #print(mean_scores)\n",
        "  top_n = 10\n",
        "  top_class_indices = np.argsort(mean_scores)[::-1][:top_n]\n",
        "  #print(top_class_indices)\n",
        "  for i in top_class_indices:\n",
        "    print(class_names[i])"
      ],
      "metadata": {
        "id": "dFuAX8SvixLq"
      },
      "execution_count": null,
      "outputs": []
    },
    {
      "cell_type": "code",
      "source": [
        "sample_audio = '/content/gun_shot.wav'\n",
        "preprocess_audio(sample_audio)"
      ],
      "metadata": {
        "colab": {
          "base_uri": "https://localhost:8080/",
          "height": 644
        },
        "id": "oU3zpjUoj8i3",
        "outputId": "1e981515-f4dc-445a-a0eb-8dbcf4fbca16"
      },
      "execution_count": null,
      "outputs": [
        {
          "output_type": "stream",
          "name": "stdout",
          "text": [
            "Taxa de amostragem:  16000\n",
            "Duração:  1.227\n",
            "Número total de amostras:  19632\n",
            "O som principal é:  Explosion\n",
            "Explosion\n",
            "Fireworks\n",
            "Firecracker\n",
            "Gunshot, gunfire\n",
            "Machine gun\n",
            "Burst, pop\n",
            "Music\n",
            "Clip-clop\n",
            "Percussion\n",
            "Drum\n"
          ]
        },
        {
          "output_type": "display_data",
          "data": {
            "text/plain": [
              "<Figure size 720x432 with 2 Axes>"
            ],
            "image/png": "[encoded data removed]"
          },
          "metadata": {
            "needs_background": "light"
          }
        }
      ]
    }
  ],
  "nbformat": 4,
  "nbformat_minor": 0,
  "metadata": {
    "language_info": {
      "name": "python"
    },
    "orig_nbformat": 4,
    "colab": {
      "name": "Classificação de sons com YAMNet.ipynb",
      "provenance": [],
      "collapsed_sections": [],
      "include_colab_link": true
    },
    "kernelspec": {
      "name": "python3",
      "display_name": "Python 3"
    }
  }
}